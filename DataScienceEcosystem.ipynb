{
 "cells": [
  {
   "cell_type": "markdown",
   "id": "160ab664-22a7-4195-b2c1-c16952b59963",
   "metadata": {},
   "source": [
    "## Neste notebook, as Ferramentas e Ecossistema de Ciência de Dados são resumidos."
   ]
  },
  {
   "cell_type": "markdown",
   "id": "f04956ef-a6e2-4b8c-a8ec-e2f3d5af8e9c",
   "metadata": {},
   "source": [
    "# Data Science Tools and Ecosystem"
   ]
  },
  {
   "cell_type": "markdown",
   "id": "1152434e-4176-4793-9f3d-396750966295",
   "metadata": {},
   "source": [
    "## Autor: Victor Hugo B. T."
   ]
  },
  {
   "cell_type": "markdown",
   "id": "d5ad32c7-d68c-45c0-b4b1-c03c7a7d1f82",
   "metadata": {},
   "source": [
    "**Objetivos:**  \n",
    "\n",
    "- Listar linguagens populares para Ciência de Dados.  \n",
    "- Explorar ferramentas e bibliotecas utilizadas na área.  \n",
    "- Executar expressões aritméticas no Python.  \n",
    "- Converter unidades de tempo (minutos para horas).  \n",
    "- Criar e formatar células Markdown e de código no Jupyter Notebook.  "
   ]
  },
  {
   "cell_type": "markdown",
   "id": "019bb822-7b61-4c71-b25a-85759f9ee21d",
   "metadata": {},
   "source": [
    "## Algumas das linguagens populares que os Cientistas de Dados usam são:\n",
    "1. python\n",
    "2. .net\n",
    "3. R"
   ]
  },
  {
   "cell_type": "markdown",
   "id": "f24d13e5-c582-4203-a797-dac96cc22a47",
   "metadata": {},
   "source": [
    "## Algumas das bibliotecas comumente usadas por Cientistas de Dados incluem:\n",
    "\n",
    "1. Pandas\n",
    "2. NumPy\n",
    "3. Matplotlib"
   ]
  },
  {
   "cell_type": "markdown",
   "id": "a8e4d95d-81f8-46a2-b313-089259596aaa",
   "metadata": {},
   "source": [
    "# Ferramentas de Ciência de Dados\n",
    "\n",
    "| Ferramentas de Ciência de Dados |\n",
    "|----------------------------------|\n",
    "| Jupyter Notebook                |\n",
    "| Apache Spark                    |\n",
    "| TensorFlow                      |"
   ]
  },
  {
   "cell_type": "markdown",
   "id": "ec724e16-9843-45b0-8ff2-f32a5a92e346",
   "metadata": {},
   "source": [
    "### Abaixo estão alguns exemplos de avaliação de expressões aritméticas em Python.\n",
    "\n",
    "- **Adição:** `3 + 5 = 8`  \n",
    "- **Subtração:** `10 - 4 = 6`  \n",
    "- **Multiplicação:** `6 * 7 = 42`  "
   ]
  },
  {
   "cell_type": "markdown",
   "id": "ebbe9c94-edd6-43ef-bfd7-dc504d41b6c2",
   "metadata": {},
   "source": [
    "# Esta é uma expressão aritmética simples para multiplicar e depois adicionar inteiros."
   ]
  },
  {
   "cell_type": "code",
   "execution_count": 22,
   "id": "fb1b5160-c477-4751-9677-7018b02361af",
   "metadata": {},
   "outputs": [],
   "source": [
    "resultado = (3 * 4) + 5"
   ]
  },
  {
   "cell_type": "code",
   "execution_count": 24,
   "id": "584b0bd8-9b5b-494b-94a5-b9736843401d",
   "metadata": {},
   "outputs": [
    {
     "name": "stdout",
     "output_type": "stream",
     "text": [
      "17\n"
     ]
    }
   ],
   "source": [
    "print(resultado) "
   ]
  },
  {
   "cell_type": "markdown",
   "id": "388c1f1f-9051-4cd1-aa91-d92eb372f1d4",
   "metadata": {},
   "source": [
    "# Isso converterá 200 minutos em horas dividindo por 60."
   ]
  },
  {
   "cell_type": "code",
   "execution_count": 27,
   "id": "233ae8aa-8994-44b6-80f8-cd02f0ddd2ab",
   "metadata": {},
   "outputs": [],
   "source": [
    "horas = 200 / 60"
   ]
  },
  {
   "cell_type": "code",
   "execution_count": 29,
   "id": "9e26e8e3-6be5-4a51-bf06-2a770d6cf911",
   "metadata": {},
   "outputs": [
    {
     "name": "stdout",
     "output_type": "stream",
     "text": [
      "3.3333333333333335\n"
     ]
    }
   ],
   "source": [
    "print(horas)"
   ]
  },
  {
   "cell_type": "code",
   "execution_count": null,
   "id": "07ac3cd3-605b-4f30-886d-b65fc611759e",
   "metadata": {},
   "outputs": [],
   "source": []
  }
 ],
 "metadata": {
  "kernelspec": {
   "display_name": "Python [conda env:base] *",
   "language": "python",
   "name": "conda-base-py"
  },
  "language_info": {
   "codemirror_mode": {
    "name": "ipython",
    "version": 3
   },
   "file_extension": ".py",
   "mimetype": "text/x-python",
   "name": "python",
   "nbconvert_exporter": "python",
   "pygments_lexer": "ipython3",
   "version": "3.12.7"
  }
 },
 "nbformat": 4,
 "nbformat_minor": 5
}
